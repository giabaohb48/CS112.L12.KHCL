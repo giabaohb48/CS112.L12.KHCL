{
  "nbformat": 4,
  "nbformat_minor": 0,
  "metadata": {
    "colab": {
      "name": "BOT.ipynb",
      "provenance": [],
      "include_colab_link": true
    },
    "kernelspec": {
      "name": "python3",
      "display_name": "Python 3"
    }
  },
  "cells": [
    {
      "cell_type": "markdown",
      "metadata": {
        "id": "view-in-github",
        "colab_type": "text"
      },
      "source": [
        "<a href=\"https://colab.research.google.com/github/nguyenducha0103/CS112.L12.KHCL/blob/master/BOT.ipynb\" target=\"_parent\"><img src=\"https://colab.research.google.com/assets/colab-badge.svg\" alt=\"Open In Colab\"/></a>"
      ]
    },
    {
      "cell_type": "markdown",
      "metadata": {
        "id": "MDuIfZbn-DZj",
        "colab_type": "text"
      },
      "source": [
        "**Abstraction**\n",
        "*   Tìm mảng con liền kề có tổng lớn nhất\n",
        "\n",
        "\n",
        "**Pattern Recognition**\n",
        "\n",
        "*   Quy hoạch động\n",
        "\n",
        "**Algorithm designed**\n",
        "\n",
        "Input: n là số nguyên, 1 <= n <= 10^6.\n",
        "\n",
        "a là mảng gồm n phần tử, bắt đầu từ a[0], a[1],...,a[n]\n",
        "\n",
        "Output: chỉ số đầu của mảng con, chỉ số cuối của mảng con, tổng các phần tử mảng con \n",
        "\n",
        "Biến khởi tạo:\n",
        "```\n",
        "    max_sum = 0\n",
        "    start = end = 0\n",
        "    curr_sum = 0\n",
        "    temp = 0\n",
        "\n",
        "```\n",
        "Lặp *i* từ 0 đến = n - 1\n",
        "  \n",
        "\n",
        "```\n",
        "  1. curr_sum = curr_sum + a[i]\n",
        "  2. if (max_sum < curr_sum)\n",
        "       currStart = currEnd\n",
        "       end = i\n",
        "       start = temp\n",
        "  3. if(curr_sum < 0)\n",
        "       curr_sum = 0\n",
        "       temp = i + 1\n",
        "\n",
        "```\n",
        "\n",
        "\n",
        "Print:\n",
        "        \n",
        "\n",
        "```\n",
        "    Chỉ số bắt đầu của mảng con: start + 1\n",
        "    Chỉ số kết thúc của mảng con: end + 1\n",
        "    Tổng các phần tử trong mảng con: max_sum\n",
        "\n",
        "```\n",
        "\n",
        "**Độ phức tạp của thuật toán: O(n)**\n"
      ]
    },
    {
      "cell_type": "code",
      "metadata": {
        "id": "U8bnatW49zRc",
        "colab_type": "code",
        "colab": {
          "base_uri": "https://localhost:8080/",
          "height": 67
        },
        "outputId": "10a4e4cc-a3d5-438c-c83d-374775d9d78d"
      },
      "source": [
        "def maxSubArray(arr,size):\n",
        "    max_sum = 0\n",
        "    start = end = 0\n",
        "    curr_sum = 0\n",
        "    temp = 0\n",
        "\n",
        "    for i in range(0,size):   \n",
        "      curr_sum += arr[i] \n",
        "\n",
        "      if max_sum < curr_sum:\n",
        "        max_sum = curr_sum \n",
        "        start = temp \n",
        "        end = i \n",
        "\n",
        "      if curr_sum < 0:\n",
        "        curr_sum = 0\n",
        "        temp = i+1\n",
        "  \n",
        "    print (start+1, end+1, max_sum)\n",
        "n = int(input())\n",
        "arr = list(map(int, input().split()))\n",
        "maxSubArray(arr,len(arr))\n",
        "# numbers = [2,-4,5,-8,4,-1,-1,1,1,1,-2,2,4,-6,9,-4]"
      ],
      "execution_count": 5,
      "outputs": [
        {
          "output_type": "stream",
          "text": [
            "16\n",
            "2 -4 5 -8 4 -1 -1 1 1 1 -2 2 4 -6 9 -4\n",
            "5 15 12\n"
          ],
          "name": "stdout"
        }
      ]
    }
  ]
}