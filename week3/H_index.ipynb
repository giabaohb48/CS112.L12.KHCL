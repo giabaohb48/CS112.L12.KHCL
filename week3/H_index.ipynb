{
  "nbformat": 4,
  "nbformat_minor": 0,
  "metadata": {
    "colab": {
      "name": "H_index.ipynb",
      "provenance": [],
      "collapsed_sections": [],
      "authorship_tag": "ABX9TyNc00qQxn0nbpsAf5Otxnyd",
      "include_colab_link": true
    },
    "kernelspec": {
      "name": "python3",
      "display_name": "Python 3"
    }
  },
  "cells": [
    {
      "cell_type": "markdown",
      "metadata": {
        "id": "view-in-github",
        "colab_type": "text"
      },
      "source": [
        "<a href=\"https://colab.research.google.com/github/nguyenducha0103/CS112.L12.KHCL/blob/master/H_index.ipynb\" target=\"_parent\"><img src=\"https://colab.research.google.com/assets/colab-badge.svg\" alt=\"Open In Colab\"/></a>"
      ]
    },
    {
      "cell_type": "markdown",
      "metadata": {
        "id": "eERTK5Z87sSf"
      },
      "source": [
        "**Abstraction**\n",
        "*   Tìm số lớn nhất thỏa điều kiện.\n",
        "\n",
        "\n",
        "**Pattern Recognition**\n",
        "* \tBrute force\n",
        "\n",
        "\n",
        "**Algorithm designed**\n",
        "\n",
        "\n",
        "Input: n là số nguyên, 1 ≤ n ≤ 5×10^5.\n",
        "\n",
        "a là mảng gồm n phần tử, bắt đầu từ a[0], a[1],...,a[n]\n",
        "\n",
        "Output: số lớn nhất\n",
        "\n",
        "\n",
        "**Mã giả**\n",
        "\n",
        "`Sắp xếp lại mảng n phần tử thành mảng tăng dần`\n",
        "\n",
        "Lặp *i*, cited từ 0 đến = c\n",
        "  \n",
        "```\n",
        "  1. result = chiều dài của chuỗi - i\n",
        "  2. if (result <= giá trị của phần tử đang xét)\n",
        "       Return result\n",
        "```\n",
        "\n",
        "\n",
        "\n",
        "\n",
        "\n",
        "\n",
        "Print:\n",
        "\n",
        "    số nguyên H_Index tìm được.\n",
        "\n",
        "**Độ phức tạp của thuật toán: O(n)**"
      ]
    },
    {
      "cell_type": "code",
      "metadata": {
        "id": "mMBODsYJLVb2",
        "outputId": "a65e425c-8659-4bcd-fb4b-4085ab21f26f",
        "colab": {
          "base_uri": "https://localhost:8080/",
          "height": 67
        }
      },
      "source": [
        "def H_index(c,n): \n",
        "    c.sort() \n",
        "    for i, cited in enumerate(c): \n",
        "        result = len(c) - i \n",
        "        if result <= cited: \n",
        "            return result           \n",
        "    return 0\n",
        "n = int(input())\n",
        "citations = list(map(int, input().split()))\n",
        "print(H_index(citations,n))\n"
      ],
      "execution_count": 1,
      "outputs": [
        {
          "output_type": "stream",
          "text": [
            "5\n",
            "8 5 3 4 10\n",
            "4\n"
          ],
          "name": "stdout"
        }
      ]
    }
  ]
}