{
  "nbformat": 4,
  "nbformat_minor": 0,
  "metadata": {
    "colab": {
      "name": "MucDoGiongNhau.ipynb",
      "provenance": [],
      "collapsed_sections": [],
      "authorship_tag": "ABX9TyPw0j8F+X119oaK/Hfayak9",
      "include_colab_link": true
    },
    "kernelspec": {
      "name": "python3",
      "display_name": "Python 3"
    }
  },
  "cells": [
    {
      "cell_type": "markdown",
      "metadata": {
        "id": "view-in-github",
        "colab_type": "text"
      },
      "source": [
        "<a href=\"https://colab.research.google.com/github/nguyenducha0103/CS112.L12.KHCL/blob/master/MucDoGiongNhau.ipynb\" target=\"_parent\"><img src=\"https://colab.research.google.com/assets/colab-badge.svg\" alt=\"Open In Colab\"/></a>"
      ]
    },
    {
      "cell_type": "markdown",
      "metadata": {
        "id": "bLB50_V3lI9E"
      },
      "source": [
        "# **MỨC ĐỘ GIỐNG NHAU (0.2s, 50MB)**\n",
        "\n",
        "Một quần thể sinh vật ngoài hành tinh có gene tạo thành từ 26 cơ sở ký hiệu từ A tới Z. Mỗi gene là một xâu ký tự các chữ cái la tinh hoa. Hai cá thể khác nhau có gene khác nhau. Mức độ giống nhau của 2 gene sẽ xác định độ huyết thống của chúng.\n",
        "\n",
        "Độ giống nhau của gene thứ nhất đối với gene thứ 2 là số lượng cặp 2 cơ sở liên tiếp nhau trong gene thứ nhất đồng thời là cặp 2 cơ sở liên tiếp nhau trong gene thứ hai.\n",
        "\n",
        "\n",
        "\n",
        "*Ví dụ*, gene thứ nhất là ***ABBACAB***, gene thứ 2 là ***BCABB*** thì mức độ giống nhau là 4.\n",
        "\n",
        " \n",
        "Cho hai gene. Hãy xác định mức độ giống nhau của gene thứ nhất với gene thứ 2.\n",
        "\n",
        "***Dữ liệu***: Vào từ thiết bị nhập chuẩn bao gồm 2 dòng chứa 2 xâu khác rỗng xác định gene thứ nhất và gene thứ 2, mỗi xâu chỉ chứa các ký tự chữ cái in hoa và có độ dài không quá 105.\n",
        "\n",
        "***Kết quả***: Đưa ra thiết bị xuất chuẩn một số nguyên – mức độ giống nhau của 2 genes.\n",
        "\n",
        "# **Abstract**\n",
        "\n",
        "\n",
        "*    Cho hai chuỗi các ký tự chữ cái in hoa và có độ dài không quá 105, đếm số lượng các cặp ký tự cùng tồn tại trong cả hai chuỗi.\n",
        "\n",
        "\n",
        "# **Pattern recognization**\n",
        "\n",
        "*   Vét cạn (Brute Force)\n",
        "\n",
        "# **Algorithm designed**\n",
        "\n",
        "\n",
        "*   Tìm các cặp ký tự có trong chuỗi string2 đưa vào mảng A\n",
        "*   Tìm tất cả các cặp ký tự có trong chuỗi string1 và so sánh từng cặp ký tự đó với các cặp có trong mảng A, nếu giống nhau thì tăng biến đếm lên 1 đơn vị\n",
        "\n",
        "\n",
        "***Input***: Hai chuỗi ký tự in hoa khác rỗng có độ dài không quá n (với n = 10^5).\n",
        "\n",
        "***Output***: số lượng cặp ký tự giống nhau của chuỗi string1 và string2\n",
        "\n",
        "**Thuật toán:**\n",
        "\n",
        "\n",
        "```\n",
        "a = []\n",
        "\n",
        "for i to len(string2) - 1 do\n",
        "  temp <- string1[i] + string2[i+1]\n",
        "  a[i] <- temp\n",
        "for i to len(string1) - 1 do\n",
        "  temp <- string1[i] + string2[i+1]\n",
        "  if temp in a do\n",
        "    count <- count + 1\n",
        "return count\n",
        "```\n",
        "\n",
        "\n",
        "**Độ phức tạp của thuật toán** : O(n) + O(n) = O(n)\n",
        "\n",
        "\n",
        "**CODE**"
      ]
    },
    {
      "cell_type": "code",
      "metadata": {
        "id": "JeE-hflEknuu",
        "outputId": "e1105f10-f9d2-424f-acb9-cd9c50a5615e",
        "colab": {
          "base_uri": "https://localhost:8080/",
          "height": 67
        }
      },
      "source": [
        "string1 = input().strip()\n",
        "string2 = input().strip()\n",
        "# string1 = 'ABBACAB'\n",
        "# string2 = 'BCABB'\n",
        "def countSubstring(string1,string2):\n",
        "  a = set()\n",
        "  count = 0\n",
        "\n",
        "  for i in range(0, len(string2)-1):\n",
        "    temp = string2[i] + string2[i+1]\n",
        "    a.add(temp)\n",
        "\n",
        "  for i in range(0, len(string1) - 1):\n",
        "    temp = string1[i] + string1[i+1]\n",
        "    \n",
        "    if temp in a:\n",
        "      count += 1\n",
        "\n",
        "  return count\n",
        "print(countSubstring(string1,string2))"
      ],
      "execution_count": 1,
      "outputs": [
        {
          "output_type": "stream",
          "text": [
            "ABBACAB\n",
            "BCABB\n",
            "4\n"
          ],
          "name": "stdout"
        }
      ]
    }
  ]
}