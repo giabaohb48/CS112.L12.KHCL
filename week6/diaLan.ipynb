{
  "nbformat": 4,
  "nbformat_minor": 0,
  "metadata": {
    "colab": {
      "name": "diaLan.ipynb",
      "provenance": []
    },
    "kernelspec": {
      "name": "python3",
      "display_name": "Python 3"
    }
  },
  "cells": [
    {
      "cell_type": "markdown",
      "metadata": {
        "id": "p_q4p8vDPbJT"
      },
      "source": [
        "# **ĐỊA LAN**"
      ]
    },
    {
      "cell_type": "markdown",
      "metadata": {
        "id": "Nugeg5o0Nlyg"
      },
      "source": [
        "\r\n",
        "<p style=\"text-align:justify\"><span style=\"color:black\">Giáo sư Braun đã lai giống tạo ra </span><strong><em><span style=\"color:black\">n</span></em></strong><span style=\"color:black\"> loại địa lan mới độc đáo. Mỗi loại địa lan được trồng trong một chậu riêng và được ghi một số thể hiện đặc điểm gene của loại hoa đó, chậu thứ </span><strong><em><span style=\"color:black\">i</span></em></strong><span style=\"color:black\"> có số là </span><strong><em><span style=\"color:black\">a<sub>i</sub></span></em></strong><span style=\"color:black\">, </span><strong><em><span style=\"color:black\">i</span></em></strong><span style=\"color:black\"> = 1 </span><span style=\"color:black\">÷</span> <strong><em><span style=\"color:black\">n</span></em></strong><span style=\"color:black\">.</span></p>\r\n",
        "\r\n",
        "<p style=\"text-align:justify\"><span style=\"color:black\">Hội chợ hoa địa lan thế giới mời giáo sư tham gia và giới thiệu các thành quả nghiên cứu của ông. Các chậu hoa do ông mang tới sẽ được đặt trên </span><strong><em><span style=\"color:black\">k</span></em></strong><span style=\"color:black\"> đôn dọc theo đường đi dẫn tới gian hàng chính của hội chợ.&nbsp; </span></p>\r\n",
        "\r\n",
        "<p style=\"text-align:justify\"><span style=\"color:black\">Muốn gây ấn tượng mạnh cho những người tham dự, đặc biệt là các nhà khoa học Giáo sư yêu cầu trợ lý của mình chọn </span><strong><em><span style=\"color:black\">k</span></em></strong><span style=\"color:black\"> chậu sao cho khi thực hiện phép </span><strong><em><span style=\"color:black\">AND</span></em></strong><span style=\"color:black\"> số trên các chậu hoa tới (nếu xét chúng ở dạng biểu diễn nhị phân) sẽ có kết quả bằng 0.</span></p>\r\n",
        "\r\n",
        "<p style=\"text-align:justify\"><span style=\"color:black\">Hãy xác định xem người trợ lý có thể chọn được </span><strong><em><span style=\"color:black\">k</span></em></strong><span style=\"color:black\"> chậu như vậy hay không và đưa ra thông báo “</span><strong><em><span style=\"color:black\">YES</span></em></strong><span style=\"color:black\">” hoặc “</span><strong><em><span style=\"color:black\">NO</span></em></strong><span style=\"color:black\">”.</span></p>\r\n",
        "\r\n",
        "<p style=\"text-align:justify\"><strong><em>Dữ liệu:</em></strong><span style=\"color:black\"> Vào từ thiết bị nhập chuẩn:</span></p>\r\n",
        "\r\n",
        "<ul>\r\n",
        "\t<li style=\"text-align:justify\"><span style=\"color:black\">Dòng đầu tiên chứa 2 số nguyên </span><strong><em><span style=\"color:black\">n</span></em></strong><span style=\"color:black\"> và </span><strong><em><span style=\"color:black\">k</span></em></strong><span style=\"color:black\"> (1 ≤ </span><strong><em><span style=\"color:black\">n</span></em></strong><span style=\"color:black\"> ≤ 2×10<sup>4</sup>, 1 ≤ </span><strong><em><span style=\"color:black\">k</span></em></strong><span style=\"color:black\"> ≤ </span><strong><em><span style=\"color:black\">n</span></em></strong><span style=\"color:black\">),</span></li>\r\n",
        "\t<li style=\"text-align:justify\"><span style=\"color:black\">Dòng thứ 2 chứa </span><strong><em><span style=\"color:black\">n</span></em></strong><span style=\"color:black\"> số nguyên </span><strong><em><span style=\"color:black\">a<sub>1</sub></span></em></strong><span style=\"color:black\">, </span><strong><em><span style=\"color:black\">a<sub>2</sub></span></em></strong><span style=\"color:black\">, . . ., </span><strong><em><span style=\"color:black\">a<sub>n</sub></span></em></strong><span style=\"color:black\"> (0 ≤ </span><strong><em><span style=\"color:black\">a<sub>i</sub></span></em></strong><span style=\"color:black\"> &lt; 2<sup>12</sup>, </span><strong><em><span style=\"color:black\">i</span></em></strong><span style=\"color:black\"> = 1 </span><span style=\"color:black\">÷</span> <strong><em><span style=\"color:black\">n</span></em></strong><span style=\"color:black\">).</span></li>\r\n",
        "</ul>\r\n",
        "\r\n",
        "<p style=\"text-align:justify\"><strong><em>Kết quả:</em></strong><span style=\"color:black\"> Đưa ra thiết bị xuất chuẩn thông báo tìm được.</span></p>\r\n",
        "\r\n",
        "\r\n",
        "<p style=\"text-align:justify\">&nbsp;</p>\r\n",
        "\r\n",
        "</div>"
      ]
    },
    {
      "cell_type": "markdown",
      "metadata": {
        "id": "ln6R7ErvPRve"
      },
      "source": [
        "\r\n",
        "# **Abstraction**"
      ]
    },
    {
      "cell_type": "markdown",
      "metadata": {
        "id": "ToZzFhz2PgED"
      },
      "source": [
        "\r\n",
        "*   Chọn $k$ số liên tiếp trên dãy số nguyên $a$ gồm n phần tử đã cho trước sao cho AND của chúng bằng 0\r\n",
        "*   Thuật toán tham lam.\r\n",
        "\r\n",
        "\r\n"
      ]
    },
    {
      "cell_type": "markdown",
      "metadata": {
        "id": "DQpfxpz1Po-E"
      },
      "source": [
        "# **Pattern Recognition**"
      ]
    },
    {
      "cell_type": "markdown",
      "metadata": {
        "id": "KazNCqg_PrwY"
      },
      "source": [
        "\r\n",
        "\r\n",
        "*   Với $k \\geq 12$, ta dễ dàng thấy được kết quả sẽ là YES nếu như AND của cả dãy $a$ bằng 0 vì mỗi phần tử dãy $a$ nhiều nhất có 12 bit (xét yêu cầu đề trên 12 bit vì $a_i \\le 2^{12}, i = 1 ÷ n$) mà AND của cả dãy tồn bằng 0 chứng tỏ cả 12 bit đó đều có số bằng 0. Vì vậy ta chỉ cần chọn 12 số đó là được.\r\n",
        "*   Bài toán quy về $k < 12$. Ta sẽ duyệt trâu hết $k$ phần tử liên tiếp trên dãy $a$ với mỗi vị trí bắt đầu $i$ tương ứng.\r\n",
        "\r\n",
        "\r\n"
      ]
    },
    {
      "cell_type": "markdown",
      "metadata": {
        "id": "uukFtqKzP6hc"
      },
      "source": [
        "# **Algorithm designed**"
      ]
    },
    {
      "cell_type": "markdown",
      "metadata": {
        "id": "F19uGMz9P9UV"
      },
      "source": [
        "\r\n",
        "\r\n",
        "*   Input:\r\n",
        "    *   n, k là số nguyên, (1 ≤ n ≤ 2×10^4, 1 ≤ k ≤ n).\r\n",
        "    *   a là dãy số nguyên, a1, a2, . . ., an (0 ≤ ai < 2^12, i = 1 ÷ n).\r\n",
        "\r\n",
        "\r\n",
        "*   Output: Đưa ra thiết bị xuất chuẩn thông báo tìm được: YES hoặc NO\r\n",
        "\r\n",
        "\r\n",
        "\r\n",
        "\r\n",
        "*   Pseudocode\r\n",
        "\r\n",
        "```\r\n",
        "Nhập n, k và dãy a\r\n",
        "Nếu k >= 12:\r\n",
        "Nếu AND cả dãy a == 0:\r\n",
        "  return \"YES\"\r\n",
        "else :\r\n",
        "for i in range(n - k + 1):\r\n",
        "  sum = a_i\r\n",
        "  for j in range(k):\r\n",
        "    sum = sum AND a_{i + j}\r\n",
        "  Nếu sum == 0:\r\n",
        "    return \"YES\"\r\n",
        "return \"NO\"\r\n",
        "```\r\n",
        "\r\n",
        "\r\n",
        "* Độ phức tạp thời gian: T = $O(nlogn)$"
      ]
    },
    {
      "cell_type": "code",
      "metadata": {
        "colab": {
          "base_uri": "https://localhost:8080/"
        },
        "id": "3XqKS17SNaUy",
        "outputId": "d89c94be-7b19-4a88-aed0-4d84dc210eb5"
      },
      "source": [
        "n, k = map(int, input().strip().split())\r\n",
        "a = list(map(int, input().strip().split()))\r\n",
        "\r\n",
        "if (k >= 12):\r\n",
        "    temp = a[0]\r\n",
        "    for i in a:\r\n",
        "        temp = (temp & i)\r\n",
        "    if (temp==0):\r\n",
        "        print(\"YES\")\r\n",
        "    else:\r\n",
        "        print(\"NO\")\r\n",
        "    \r\n",
        "else:\r\n",
        "    flag = True\r\n",
        "    for i in range(n - k + 1):\r\n",
        "        if (flag == False):\r\n",
        "            break\r\n",
        "        temp = a[i]\r\n",
        "        for j in range(k):\r\n",
        "            temp = (temp & a[i + j])\r\n",
        "        if (temp == 0):\r\n",
        "            flag = False\r\n",
        "            break\r\n",
        "    if (flag == False):\r\n",
        "          print(\"YES\")\r\n",
        "    else:\r\n",
        "          print(\"NO\")"
      ],
      "execution_count": 2,
      "outputs": [
        {
          "output_type": "stream",
          "text": [
            "3 2\n",
            "5 4 3\n",
            "YES\n"
          ],
          "name": "stdout"
        }
      ]
    }
  ]
}