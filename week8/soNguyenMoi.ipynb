{
  "nbformat": 4,
  "nbformat_minor": 0,
  "metadata": {
    "colab": {
      "name": "soNguyenMoi.ipynb",
      "provenance": [],
      "collapsed_sections": []
    },
    "kernelspec": {
      "name": "python3",
      "display_name": "Python 3"
    }
  },
  "cells": [
    {
      "cell_type": "markdown",
      "metadata": {
        "id": "kaCvaqoYeyg0"
      },
      "source": [
        "# **SỐ NGUYÊN MỚI**"
      ]
    },
    {
      "cell_type": "markdown",
      "metadata": {
        "id": "EHt2yBIje48-"
      },
      "source": [
        "Cho số nguyên dương n có không quá 100 chữ số. Hãy xác định số nguyên lớn nhất m chia hết cho 3 và khác n ở đúng một chữ số.\n",
        "\n",
        "***Ví dụ:*** n = 123 thì m sẽ là 723.\n",
        "\n",
        "Dữ liệu: Vào từ thiết bị nhập chuẩn gồm một dòng chứa số nguyên n có không quá 100 chữ số và không chứa các số 0 không có nghĩa.\n",
        "\n",
        "***Kết quả:*** Đưa ra thiết bị xuất chuẩn số nguyên m tìm được."
      ]
    },
    {
      "cell_type": "markdown",
      "metadata": {
        "id": "qFLUAxkefCPP"
      },
      "source": [
        "# **Abstraction**"
      ]
    },
    {
      "cell_type": "markdown",
      "metadata": {
        "id": "P470ROkvfOC8"
      },
      "source": [
        "Tìm số nguyên lớn nhất m chia hết cho 3 và khác n ở đúng 1 chữ số."
      ]
    },
    {
      "cell_type": "markdown",
      "metadata": {
        "id": "SL-GeCr4fVlk"
      },
      "source": [
        "# **Pattern Recognization**"
      ]
    },
    {
      "cell_type": "markdown",
      "metadata": {
        "id": "6WyZHEe3yMWs"
      },
      "source": [
        "Quay lui (Backtracking)"
      ]
    },
    {
      "cell_type": "markdown",
      "metadata": {
        "id": "r1alTz_PyfzV"
      },
      "source": [
        "# **Algorithm Designed**"
      ]
    },
    {
      "cell_type": "markdown",
      "metadata": {
        "id": "X4OpuWzAyjLu"
      },
      "source": [
        "**Bước 1**: Thay các số từ 9 -> n[i] vào n[i]tương ứng với mỗi vòng lặp ta tính được tổng các chữ số, nếu tổng chia hết cho 3 thì ta sẽ xuất ra kết quả, ngược lại trả ký tự vừa thay về giá trị ban đầu và tiếp tục chạy vòng lặp.\n",
        "\n",
        "**Bước 2**: Lặp lại bước 1 với ký tự thứ i + 1.\n",
        "\n",
        "\n",
        "\n",
        ">   ***TH2:*** Nếu duyệt hết TH1 mà vẫn không tìm ra kết quả. Ta xét tiếp ký tự cuối cùng của n.\n",
        "\n",
        "\n",
        "> Thay các số từ 9 -> 0 vào n[i] (i = len(n) -1).Bỏ qua vòng lặp hiện tại nếu giá trị thay vào bằng giá trị của n[i] (do đề bài yêu cầu m != n). Với mỗi vòng lặp ta tính tổng các chữ số, nếu tổng chia hết cho 3 thì xuất ra kết quả, ngược lại trả ký tự vừa thay về giá trị ban đầu và tiếp tục vòng lặp.\n",
        "\n",
        "\n",
        "\n",
        "\n",
        "\n",
        "\n",
        "\n",
        "\n",
        "\n"
      ]
    },
    {
      "cell_type": "code",
      "metadata": {
        "colab": {
          "base_uri": "https://localhost:8080/"
        },
        "id": "z6pDF6QZyfmA",
        "outputId": "76c86b75-518e-44d1-a9b3-d6c25d4f6bde"
      },
      "source": [
        "\n",
        "x = input().strip()\n",
        "def solve(x):\n",
        "    if len(x) == 1:\n",
        "        if int(x) == 9:\n",
        "            return '6'\n",
        "        return '9'\n",
        "    list= [int(i) for i in x]\n",
        "    for i in range(len(list) - 1):\n",
        "        for j in range(9, list[i], -1):\n",
        "            temp = list[i]\n",
        "            list[i] = j\n",
        "            test = sum(list)\n",
        "            if test % 3 == 0:\n",
        "                return ''.join(map(str, list))\n",
        "            else:\n",
        "                list[i] = temp\n",
        "\n",
        "    for i in range(9, 0, -1):\n",
        "        temp = list[len(list)-1]\n",
        "        if i == list[len(list) - 1]:\n",
        "            continue\n",
        "        list[len(list) - 1] = i\n",
        "        test = sum(list)\n",
        "        if test % 3 == 0:\n",
        "            return ''.join(map(str, list))\n",
        "        else:\n",
        "            list[len(list)-1] = temp\n",
        "\n",
        "\n",
        "print(solve(x))"
      ],
      "execution_count": 1,
      "outputs": [
        {
          "output_type": "stream",
          "text": [
            "123\n",
            "723\n"
          ],
          "name": "stdout"
        }
      ]
    }
  ]
}