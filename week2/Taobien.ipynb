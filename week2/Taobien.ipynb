{
  "nbformat": 4,
  "nbformat_minor": 0,
  "metadata": {
    "colab": {
      "name": "Taobien.ipynb",
      "provenance": [],
      "collapsed_sections": [],
      "include_colab_link": true
    },
    "kernelspec": {
      "name": "python3",
      "display_name": "Python 3"
    }
  },
  "cells": [
    {
      "cell_type": "markdown",
      "metadata": {
        "id": "view-in-github",
        "colab_type": "text"
      },
      "source": [
        "<a href=\"https://colab.research.google.com/github/nguyenducha0103/CS112.L12.KHCL/blob/master/Taobien.ipynb\" target=\"_parent\"><img src=\"https://colab.research.google.com/assets/colab-badge.svg\" alt=\"Open In Colab\"/></a>"
      ]
    },
    {
      "cell_type": "markdown",
      "metadata": {
        "id": "ZvLFQG3yGzlb"
      },
      "source": [
        "# ***TẢO BIỂN***"
      ]
    },
    {
      "cell_type": "markdown",
      "metadata": {
        "id": "a_AwgM7p9RjK"
      },
      "source": [
        "<div class=\"problem_description\" id=\"problem_description\">\n",
        "\n",
        "\n",
        "<p style=\"text-align:justify\"><span style=\"color:black\">Tảo biển sinh sản rất nhanh khi có môi trường thuận lợi với chúng và có những loài còn tiết ra môi trường những chất độc hại. </span></p>\n",
        "\n",
        "<p style=\"text-align:justify\"><span style=\"color:black\">Một loại tảo nâu trong môi trường nước bị ô nhiễm nặng sinh sản theo quy luật sau:</span></p>\n",
        "\n",
        "<ul>\n",
        "\t<li style=\"text-align:justify\"><span style=\"color:black\">Ngày đầu tiên (ngày 0) có </span><strong><em><span style=\"color:black\">n</span></em></strong><span style=\"color:black\"> cá thể ở mức 1,</span></li>\n",
        "\t<li style=\"text-align:justify\"><span style=\"color:black\">Ở mỗi ngày tiếp theo, mỗi cá thể mức </span><strong><em><span style=\"color:black\">i</span></em></strong><span style=\"color:black\"> sinh ra </span><strong><em><span style=\"color:black\">i</span></em></strong><span style=\"color:black\"> cá thể mức 1, các cá thể mới sinh sẽ sinh sôi, phát triển từ ngày hôm sau.</span></li>\n",
        "\t<li style=\"text-align:justify\"><span style=\"color:black\">Bản thân các cá thể mức </span><strong><em><span style=\"color:black\">i</span></em></strong><span style=\"color:black\"> phát triển thành mức </span><strong><em><span style=\"color:black\">i</span></em></strong><span style=\"color:black\">+1 và chu kỳ phát triển trong ngày chấm dứt.</span></li>\n",
        "</ul>\n",
        "\n",
        "<p style=\"text-align:justify\"><span style=\"color:black\">Hãy xác định sau </span><strong><em><span style=\"color:black\">k</span></em></strong><span style=\"color:black\"> ngày trong nước biển có bao nhiêu cá thể.</span></p>\n",
        "\n",
        "<p style=\"text-align:justify\"><strong><em><span style=\"color:black\">Dữ liệu:</span></em></strong><span style=\"color:black\"> Vào từ thiết bị nhập chuẩn gồm một dòng chứa 2 số nguyên </span><strong><em><span style=\"color:black\">n</span></em></strong><span style=\"color:black\"> và </span><strong><em><span style=\"color:black\">k</span></em></strong><span style=\"color:black\"> (1 ≤ </span><strong><em><span style=\"color:black\">n</span></em></strong><span style=\"color:black\"> ≤ 1000, 1 ≤ </span><strong><em><span style=\"color:black\">k</span></em></strong><span style=\"color:black\"> ≤ </span>10<sup>17</sup><span style=\"color:black\">).</span></p>\n",
        "\n",
        "<p style=\"text-align:justify\">(test hiện tại chỉ có <em><strong>k</strong></em> &lt;= 10<sup>5</sup>,&nbsp; thầy sẽ chấm lại sau khi nâng cấp test)</p>\n",
        "\n",
        "<p style=\"text-align:justify\"><strong><em><span style=\"color:black\">Kết quả:</span></em></strong><span style=\"color:black\"> Đưa ra thiết bị xuất chuẩn một số nguyên – số lượng cá thể&nbsp; tảo theo mô đun 10<sup>9</sup>+7.</span></p>\n",
        "\n",
        "<p style=\"text-align:justify\"><strong><em><span style=\"color:black\">Ví dụ:</span></em></strong></p>\n",
        "\n",
        "<table border=\"1\" cellspacing=\"0\" style=\"background-color:#e6e6fa; border-style:hidden\">\n",
        "\t<tbody>\n",
        "\t\t<tr>\n",
        "\t\t\t<td style=\"background-color:#ffffcc; width:63.0pt\">\n",
        "\t\t\t<pre><code><tt><kbd>INPUT</kbd></tt></code></pre>\n",
        "\t\t\t</td>\n",
        "\t\t\t<td style=\"vertical-align:top; width:58.5pt\">\n",
        "\t\t\t<pre>\n",
        "&nbsp;</pre>\n",
        "\t\t\t</td>\n",
        "\t\t\t<td style=\"background-color:#ffffcc; width:67.5pt\">\n",
        "\t\t\t<pre><code><tt><kbd>OUTPUT</kbd></tt></code></pre>\n",
        "\t\t\t</td>\n",
        "\t\t</tr>\n",
        "\t\t<tr>\n",
        "\t\t\t<td style=\"background-color:#ffffcc; width:63.0pt\">\n",
        "\t\t\t<pre><code><tt><kbd><strong>3 2</strong></kbd></tt></code></pre>\n",
        "\t\t\t</td>\n",
        "\t\t\t<td style=\"vertical-align:top; width:58.5pt\">\n",
        "\t\t\t<pre>\n",
        "&nbsp;</pre>\n",
        "\t\t\t</td>\n",
        "\t\t\t<td style=\"background-color:#ffffcc; width:67.5pt\">\n",
        "\t\t\t<pre><code><tt><kbd><strong>15</strong></kbd></tt></code></pre>\n",
        "\t\t\t</td>\n",
        "\t\t</tr>\n",
        "\t</tbody>\n",
        "</table>\n",
        "\n",
        "</div>"
      ]
    },
    {
      "cell_type": "markdown",
      "metadata": {
        "id": "1q-ku-2S9089"
      },
      "source": [
        "# **Abstraction**"
      ]
    },
    {
      "cell_type": "markdown",
      "metadata": {
        "id": "uM0ChWEBBuOC"
      },
      "source": [
        "\n",
        "*   Cho mảng Fibonacci bắt đầu từ n, tìm giá trị ở vị trí 2 * k trong mảng đó\n",
        "\n",
        "\n",
        "\n",
        "\n"
      ]
    },
    {
      "cell_type": "markdown",
      "metadata": {
        "id": "8ds1NQIR95bd"
      },
      "source": [
        "# **Pattern Recognition**"
      ]
    },
    {
      "cell_type": "markdown",
      "metadata": {
        "id": "b33OOd8qAnYX"
      },
      "source": [
        "\n",
        "*   Tối ưu hóa không gian Fibonacci\n",
        "\n"
      ]
    },
    {
      "cell_type": "markdown",
      "metadata": {
        "id": "sMJCwDyT9-4p"
      },
      "source": [
        "# **Algortihm**"
      ]
    },
    {
      "cell_type": "markdown",
      "metadata": {
        "id": "GFqemb5AByXe"
      },
      "source": [
        "\n",
        "***Input:*** n và k là số nguyên. 1<n<1000 ; 1<= k <=10^18\n",
        "\n",
        "Khởi tạo:\n",
        "\n",
        "Mảng arr chứa tổng dãy Fibonacci tương ứng với k;\n",
        "\t\n",
        "    arr=[None];\n",
        "\t\n",
        "    arr[0]=arr[1]=1;\n",
        "\n",
        "Tạo 1 vòng lặp For với i=2 cho mỗi phần từ của mảng arr:\n",
        "\n",
        "Mảng Fibonacci được tạo theo:\n",
        "\t\n",
        "    arr[i]=arr[i-1]+arr[i-2]\n",
        "\t\n",
        "  Khi i=(2k) dừng vòng lặp và trả về giá trị a[i]\n",
        "\n",
        "\n",
        "\n",
        "***Output:***\n",
        "\n",
        "    (Giá trị arr[2*k])/1e9+7\n",
        "\n",
        "  **Độ phức tạp: O(n)**"
      ]
    },
    {
      "cell_type": "markdown",
      "metadata": {
        "id": "1Dw71-_KELjq"
      },
      "source": [
        "**CODE**"
      ]
    },
    {
      "cell_type": "code",
      "metadata": {
        "id": "GYmei_LKEOrU",
        "colab": {
          "base_uri": "https://localhost:8080/",
          "height": 52
        },
        "outputId": "5134a758-245a-47e9-ebfd-d09fd6b3de9e"
      },
      "source": [
        "a = list(map(int, input().split()))\n",
        "mod=int(1e9+7)\n",
        "def taoBien(x):\n",
        "     arr=[]\n",
        "     arr=[None]*(x+1)\n",
        "     arr[0]=arr[1]=1\n",
        "     for i in (range(2,x+1)) :\n",
        "          arr[i]=(arr[i-1]+arr[i-2])\n",
        "     return arr[x]\n",
        "b=2*(a[1])\n",
        "sum=taoBien(b)*(a[0])%mod\n",
        "print(sum)"
      ],
      "execution_count": null,
      "outputs": [
        {
          "output_type": "stream",
          "text": [
            "3 2\n",
            "15\n"
          ],
          "name": "stdout"
        }
      ]
    }
  ]
}