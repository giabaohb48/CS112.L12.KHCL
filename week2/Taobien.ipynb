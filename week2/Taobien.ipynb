{
  "nbformat": 4,
  "nbformat_minor": 0,
  "metadata": {
    "colab": {
      "name": "Taobien.ipynb",
      "provenance": [],
      "collapsed_sections": [],
      "include_colab_link": true
    },
    "kernelspec": {
      "name": "python3",
      "display_name": "Python 3"
    }
  },
  "cells": [
    {
      "cell_type": "markdown",
      "metadata": {
        "id": "view-in-github",
        "colab_type": "text"
      },
      "source": [
        "<a href=\"https://colab.research.google.com/github/nguyenducha0103/CS112.L12.KHCL/blob/master/Taobien.ipynb\" target=\"_parent\"><img src=\"https://colab.research.google.com/assets/colab-badge.svg\" alt=\"Open In Colab\"/></a>"
      ]
    },
    {
      "cell_type": "markdown",
      "metadata": {
        "id": "ZvLFQG3yGzlb",
        "colab_type": "text"
      },
      "source": [
        "# ***TẢO BIỂN***"
      ]
    },
    {
      "cell_type": "markdown",
      "metadata": {
        "id": "uM0ChWEBBuOC",
        "colab_type": "text"
      },
      "source": [
        "**1. Abstraction:** Cho mảng Fibonacci bắt đầu từ n, tìm giá trị ở vị trí 2 * k trong mảng đó\n",
        "\n"
      ]
    },
    {
      "cell_type": "markdown",
      "metadata": {
        "id": "b33OOd8qAnYX",
        "colab_type": "text"
      },
      "source": [
        "**2. Pattern Recognition**:Tối ưu hóa không gian Fibonacci"
      ]
    },
    {
      "cell_type": "markdown",
      "metadata": {
        "id": "GFqemb5AByXe",
        "colab_type": "text"
      },
      "source": [
        "**3. Algortihm:**\n",
        "\n",
        "*Input:* n và k là số nguyên. \n",
        "\n",
        "    1<n<1000 ; 1<= k <=10^18\n",
        "\n",
        "\n",
        "Khởi tạo:\n",
        "\n",
        "Mảng arr chứa tổng dãy Fibonacci tương ứng với k;\n",
        "\t\n",
        "    arr=[None];\n",
        "\t\n",
        "    arr[0]=arr[1]=1;\n",
        "\n",
        "Tạo 1 vòng lặp For với i=2 cho mỗi phần từ của mảng arr:\n",
        "\n",
        "Mảng Fibonacci được tạo theo:\n",
        "\t\n",
        "    arr[i]=arr[i-1]+arr[i-2]\n",
        "\t\n",
        "  Khi i=(2k) dừng vòng lặp và trả về giá trị a[i]\n",
        "\n",
        "\n",
        "\n",
        "*Output:* \n",
        "\n",
        "    (Giá trị arr[2*k])/1e9+7\n",
        "  end.\n",
        "\n",
        "  **Độ phức tạp: O(n)**"
      ]
    },
    {
      "cell_type": "markdown",
      "metadata": {
        "id": "1Dw71-_KELjq",
        "colab_type": "text"
      },
      "source": [
        "**CODE**"
      ]
    },
    {
      "cell_type": "code",
      "metadata": {
        "id": "GYmei_LKEOrU",
        "colab_type": "code",
        "colab": {
          "base_uri": "https://localhost:8080/",
          "height": 52
        },
        "outputId": "5134a758-245a-47e9-ebfd-d09fd6b3de9e"
      },
      "source": [
        "a = list(map(int, input().split()))\n",
        "mod=int(1e9+7)\n",
        "def taoBien(x):\n",
        "     arr=[]\n",
        "     arr=[None]*(x+1)\n",
        "     arr[0]=arr[1]=1\n",
        "     for i in (range(2,x+1)) :\n",
        "          arr[i]=(arr[i-1]+arr[i-2])\n",
        "     return arr[x]\n",
        "b=2*(a[1])\n",
        "sum=taoBien(b)*(a[0])%mod\n",
        "print(sum)"
      ],
      "execution_count": null,
      "outputs": [
        {
          "output_type": "stream",
          "text": [
            "3 2\n",
            "15\n"
          ],
          "name": "stdout"
        }
      ]
    }
  ]
}