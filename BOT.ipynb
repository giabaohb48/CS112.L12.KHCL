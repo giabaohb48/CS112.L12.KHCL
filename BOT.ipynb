{
  "nbformat": 4,
  "nbformat_minor": 0,
  "metadata": {
    "colab": {
      "name": "BOT.ipynb",
      "provenance": [],
      "include_colab_link": true
    },
    "kernelspec": {
      "name": "python3",
      "display_name": "Python 3"
    }
  },
  "cells": [
    {
      "cell_type": "markdown",
      "metadata": {
        "id": "view-in-github",
        "colab_type": "text"
      },
      "source": [
        "<a href=\"https://colab.research.google.com/github/nguyenducha0103/CS112.L12.KHCL/blob/master/BOT.ipynb\" target=\"_parent\"><img src=\"https://colab.research.google.com/assets/colab-badge.svg\" alt=\"Open In Colab\"/></a>"
      ]
    },
    {
      "cell_type": "markdown",
      "metadata": {
        "id": "GymltOIP3Zgg"
      },
      "source": [
        "# **BOT**"
      ]
    },
    {
      "cell_type": "markdown",
      "metadata": {
        "id": "5tZ9ZBpr3fbJ"
      },
      "source": [
        "**BOT** (Built-Operation-Transfer, có nghĩa: Xây dựng-Vận hành-Chuyển giao) là hình thức Chính phủ kêu gọi các công ty bỏ vốn xây dựng trước (Built) thông qua đấu thầu, sau đó khai thác vận hành một thời gian (Operation) và sau cùng là chuyển giao (Transfer) lại cho nhà nước sở tại.\n",
        "\n",
        "Đường cao tốc xuyên quốc gia được xây dựng theo hình thức BOT. Công ty Đa quốc gia Modern Highway trúng thầu, chia toàn bộ con đường thành **n** đoạn. Theo tính toán của Công ty sau khi chuyển giao con đường cho chính phủ sở tại quản lý thì lãi thu được ở đoạn đường thứ **i** là **ai**, **ai** có thể dương, âm hoặc bằng 0, tức là với từng đoạn con có thể lãi, lỗ hoặc hòa vốn. Từng nhóm các đoạn đường liên tiếp nhau (gọi tắt là khoảng) được chia cho các công ty con thực hiện. Công ty con ASEAM Highway hiện đang có trụ sở ở nước sở tại được quyền chọn trước khoảng tùy ý (có thể là cả con đường).\n",
        "\n",
        "Dĩ nhiên Ban Giám đốc ASEAM Highway muốn chọn khoảng bắt đầu từ đoạn **p** đến hết đoạn **q** mang lại lợi nhuận cao nhất hoặc lỗ ít nhất nếu không có khoảng nào cho lãi.\n",
        "\n",
        "Hãy chỉ ra khoảng cần chọn và lãi thu được. Nếu có nhiều cách chọn thì chỉ ra cách chọn có **p** nhỏ nhất.\n",
        "\n",
        "***Dữ liệu:*** Vào từ thiết bị nhập chuẩn:\n",
        "\n",
        "Dòng đầu tiên chứa số nguyên **n** (1 ≤ n ≤ 106),\n",
        "Dòng thứ 2 chứa n số nguyên **a1**, **a2**, . . ., **an** (0 ≤ |**ai**| ≤ 109, **i** = 1 ÷ **n**).\n",
        "\n",
        "***Kết quả:*** Đưa ra thiết bị xuất chuẩn trên một dòng 2 số nguyên p, q và lãi thu được."
      ]
    },
    {
      "cell_type": "markdown",
      "metadata": {
        "id": "lo73oeiN4LaU"
      },
      "source": [
        "# **Abstraction**"
      ]
    },
    {
      "cell_type": "markdown",
      "metadata": {
        "id": "qSGSS6BC4Oev"
      },
      "source": [
        "*   Tìm mảng con liền kề có tổng lớn nhất\n",
        "\n"
      ]
    },
    {
      "cell_type": "markdown",
      "metadata": {
        "id": "WVb8i7My4ZJO"
      },
      "source": [
        "# **Pattern Recognition**"
      ]
    },
    {
      "cell_type": "markdown",
      "metadata": {
        "id": "jLvmyLXA4dIV"
      },
      "source": [
        "*   Quy hoạch động"
      ]
    },
    {
      "cell_type": "markdown",
      "metadata": {
        "id": "3NRVgg-O4m6L"
      },
      "source": [
        "# **Algorithm designed**"
      ]
    },
    {
      "cell_type": "markdown",
      "metadata": {
        "id": "MDuIfZbn-DZj"
      },
      "source": [
        "**Input:** ***n*** là số nguyên, 1 <= ***n*** <= 10^6.\n",
        "\n",
        "a là mảng gồm n phần tử, bắt đầu từ a[0], a[1],...,a[n]\n",
        "\n",
        "**Output:** chỉ số đầu của mảng con, chỉ số cuối của mảng con, tổng các phần tử mảng con \n",
        "\n",
        "Biến khởi tạo:\n",
        "```\n",
        "    max_sum = 0\n",
        "    start = end = 0\n",
        "    curr_sum = 0\n",
        "    temp = 0\n",
        "\n",
        "```\n",
        "Lặp *i* từ 0 đến = n - 1\n",
        "  \n",
        "\n",
        "```\n",
        "  1. curr_sum = curr_sum + a[i]\n",
        "  2. if (max_sum < curr_sum)\n",
        "       currStart = currEnd\n",
        "       end = i\n",
        "       start = temp\n",
        "  3. if(curr_sum < 0)\n",
        "       curr_sum = 0\n",
        "       temp = i + 1\n",
        "\n",
        "```\n",
        "\n",
        "\n",
        "Print:\n",
        "        \n",
        "\n",
        "```\n",
        "    Chỉ số bắt đầu của mảng con: start + 1\n",
        "    Chỉ số kết thúc của mảng con: end + 1\n",
        "    Tổng các phần tử trong mảng con: max_sum\n",
        "\n",
        "```\n",
        "\n",
        "**Độ phức tạp của thuật toán: O(n)**\n"
      ]
    },
    {
      "cell_type": "code",
      "metadata": {
        "id": "U8bnatW49zRc",
        "colab": {
          "base_uri": "https://localhost:8080/",
          "height": 67
        },
        "outputId": "10a4e4cc-a3d5-438c-c83d-374775d9d78d"
      },
      "source": [
        "def maxSubArray(arr,size):\n",
        "    max_sum = 0\n",
        "    start = end = 0\n",
        "    curr_sum = 0\n",
        "    temp = 0\n",
        "\n",
        "    for i in range(0,size):   \n",
        "      curr_sum += arr[i] \n",
        "\n",
        "      if max_sum < curr_sum:\n",
        "        max_sum = curr_sum \n",
        "        start = temp \n",
        "        end = i \n",
        "\n",
        "      if curr_sum < 0:\n",
        "        curr_sum = 0\n",
        "        temp = i+1\n",
        "  \n",
        "    print (start+1, end+1, max_sum)\n",
        "n = int(input())\n",
        "arr = list(map(int, input().split()))\n",
        "maxSubArray(arr,len(arr))\n",
        "# numbers = [2,-4,5,-8,4,-1,-1,1,1,1,-2,2,4,-6,9,-4]"
      ],
      "execution_count": null,
      "outputs": [
        {
          "output_type": "stream",
          "text": [
            "16\n",
            "2 -4 5 -8 4 -1 -1 1 1 1 -2 2 4 -6 9 -4\n",
            "5 15 12\n"
          ],
          "name": "stdout"
        }
      ]
    }
  ]
}