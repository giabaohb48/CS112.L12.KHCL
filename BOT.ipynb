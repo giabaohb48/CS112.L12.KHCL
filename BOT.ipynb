{
  "nbformat": 4,
  "nbformat_minor": 0,
  "metadata": {
    "colab": {
      "name": "BOT.ipynb",
      "provenance": [],
      "include_colab_link": true
    },
    "kernelspec": {
      "name": "python3",
      "display_name": "Python 3"
    }
  },
  "cells": [
    {
      "cell_type": "markdown",
      "metadata": {
        "id": "view-in-github",
        "colab_type": "text"
      },
      "source": [
        "<a href=\"https://colab.research.google.com/github/nguyenducha0103/CS112.L12.KHCL/blob/master/BOT.ipynb\" target=\"_parent\"><img src=\"https://colab.research.google.com/assets/colab-badge.svg\" alt=\"Open In Colab\"/></a>"
      ]
    },
    {
      "cell_type": "code",
      "metadata": {
        "id": "U8bnatW49zRc",
        "colab_type": "code",
        "colab": {}
      },
      "source": [
        "def maxSubarray(arr):\n",
        "    maxSum = 0\n",
        "    start = end = 0\n",
        "    Sum = 0\n",
        "    for currEnd, x in enumerate(arr):\n",
        "        if Sum <= 0:\n",
        "            currStart = currEnd\n",
        "            Sum = x\n",
        "        else:\n",
        "            Sum += x\n",
        "\n",
        "        if Sum > maxSum:\n",
        "            maxSum = Sum\n",
        "            start = currStart\n",
        "            end = currEnd\n",
        "    print(start + 1, end + 1 ,maxSum)\n",
        "    \n",
        "n = int(input())\n",
        "arr = map(int, input().split())\n",
        "maxSubArray(arr)"
      ],
      "execution_count": null,
      "outputs": []
    }
  ]
}