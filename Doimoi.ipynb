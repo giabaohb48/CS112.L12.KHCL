{
  "nbformat": 4,
  "nbformat_minor": 0,
  "metadata": {
    "colab": {
      "name": "Doimoi.ipynb",
      "provenance": [],
      "collapsed_sections": [],
      "authorship_tag": "ABX9TyMmhzWt3h7nyHloI+qjfQ3o",
      "include_colab_link": true
    },
    "kernelspec": {
      "name": "python3",
      "display_name": "Python 3"
    }
  },
  "cells": [
    {
      "cell_type": "markdown",
      "metadata": {
        "id": "view-in-github",
        "colab_type": "text"
      },
      "source": [
        "<a href=\"https://colab.research.google.com/github/nguyenducha0103/CS112.L12.KHCL/blob/master/Doimoi.ipynb\" target=\"_parent\"><img src=\"https://colab.research.google.com/assets/colab-badge.svg\" alt=\"Open In Colab\"/></a>"
      ]
    },
    {
      "cell_type": "markdown",
      "metadata": {
        "id": "mdjcG6aDitgw"
      },
      "source": [
        "# **Đề bài:**\n",
        "\n",
        "**Đổi Mới**\n",
        "\n",
        "\n",
        "Thành phố quyết định chặt hạ hết n cây xanh hiện có trong thành phố để trồng chỉ một loại cây mới. Nhiệm vụ được giao cho Công ty Cây xanh thành phố. Do hạn chế về thiết bị Công ty chỉ tổ chức được 2 đội đốn hạ cây. Đội I hạ được a cây mỗi ngày, nhưng cứ mối ngày thứ k thì phải nghỉ để bảo dưỡng kỹ thuật, tức là đội I sẽ nghỉ vào các ngày k, 2k, 3k, . . . Đội II hạ được b cây mỗi ngày, nhưng cứ mỗi ngày thứ m thì phải nghỉ để bảo dưỡng kỹ thuật, tức là đội II sẽ nghỉ vào các ngày m, 2m, 3m, . . . Ở ngày nghỉ, số cây chặt hạ của đội sẽ là 0. Cả hai đội bắt đầu công việc vào cùng một ngày và làm việc song song với nhau.\n",
        "\n",
        "<p style=\"text-align:justify\">Công việc trồng cây mới sẽ bắt đầu sau khi toàn bộ cây cũ đã bị đốn hạ.</p>\n",
        "\n",
        "<p style=\"text-align:justify\">Hãy xác định sau bao nhiêu ngày thì có thể bắt đầu việc trồng mới cây.</p>\n",
        "\n",
        "<p style=\"text-align:justify\"><strong><em>Dữ liệu:</em></strong> Vào từ thiết bị nhập chuẩn gồm một dòng chứa 5 số nguyên <strong><em>a</em></strong>, <strong><em>k</em></strong>, <strong><em>b</em></strong>, <strong><em>m</em></strong> và <strong><em>n</em></strong> (1 ≤ <strong><em>a</em></strong>, <strong><em>b</em></strong> ≤ 10<sup>9</sup>, 2 ≤ <strong><em>k</em></strong>, <strong><em>m</em></strong> ≤ 10<sup>18</sup>, 1 ≤ <strong><em>n</em></strong> ≤ 10<sup>18</sup>).</p>\n",
        "\n",
        "Kết quả: Đưa ra thiết bị xuất chuẩn một số nguyên – số ngày tính được.\n",
        "\n",
        "Ví dụ:\n",
        "<table style=\"border-collapse:collapse\" cellspacing=\"0\" cellpadding=\"5\" bordercolor=\"#ccc\" border=\"1\">\n",
        "\t<tbody>\n",
        "\t\t<tr>\n",
        "\t\t\t<td style=\"background-color:#ffffcc; width:108.0pt\">\n",
        "\t\t\t<p style=\"text-align:center\"><strong><tt>INPUT</tt></strong></p>\n",
        "\t\t\t</td>\n",
        "\t\t\t<td style=\"vertical-align:top; width:40.5pt\">\n",
        "\t\t\t<p style=\"text-align:center\">&nbsp;</p>\n",
        "\t\t\t</td>\n",
        "\t\t\t<td style=\"background-color:#ffffcc; width:121.5pt\">\n",
        "\t\t\t<p style=\"text-align:center\"><strong><tt>OUTPUT</tt></strong></p>\n",
        "\t\t\t</td>\n",
        "\t\t</tr>\n",
        "\t\t<tr>\n",
        "\t\t\t<td style=\"background-color:#ffffcc; height:16.6pt; width:108.0pt\">\n",
        "\t\t\t<p><tt><strong><span style=\"color:black\">2 4 3 3 25 </span></strong></tt></p>\n",
        "\t\t\t</td>\n",
        "\t\t\t<td style=\"height:16.6pt; vertical-align:top; width:40.5pt\">\n",
        "\t\t\t<p>&nbsp;</p>\n",
        "\t\t\t</td>\n",
        "\t\t\t<td style=\"background-color:#ffffcc; height:16.6pt; width:121.5pt\">\n",
        "\t\t\t<p><tt><strong>7</strong></tt></p>\n",
        "\t\t\t</td>\n",
        "\t\t</tr>\n",
        "\t</tbody>\n",
        "</table>\n",
        "\n"
      ]
    },
    {
      "cell_type": "markdown",
      "metadata": {
        "id": "8iFXI-wdc8UR"
      },
      "source": [
        "### **1. Tóm tắt bài toán:**\n",
        "\n",
        "Cho các số nguyên a,b,k,m,n.\n",
        "\n",
        "Tìm số nguyên x sao cho `F(x)= a*(x-x/k)-b*(x-x/m)=>n`\n",
        "\n",
        "Giải thích:\n",
        "* Gọi x là số ngày cần để chặt hết số cây.\n",
        "* F(x) là số cây\n",
        "* Với đội I nghỉ sau k ngày tức sau 1k,2k,3k ...nên cứ x ngày thì số ngày bị trễ thêm sẽ là x/k. Vậy số ngày thực sẽ là x-x/k\n",
        "* Tương tự với đội II thì số ngày sẽ là x-x/m\n",
        "Như vậy số cây cả 2 đội chặt được sau x ngày sẽ là: F(x)=a*(x-x/k)-b*(x-x/m)>=n"
      ]
    },
    {
      "cell_type": "markdown",
      "metadata": {
        "id": "n5Ig9ODLaj2R"
      },
      "source": [
        "### **2. Nhận dạng mẫu:**\n",
        "\n",
        "Thuật toán:\n",
        "\n",
        "Ta nhận thấy rằng tổng số cây chặt được $F(x)$ không giảm sau mỗi ngày, hay nói cách khác hàm $F(x)$ là hàm không giảm, do đó ta có thể sử dụng tìm kiếm nhị phân để tìm ra $x$ nhỏ nhất thỏa điều kiện"
      ]
    },
    {
      "cell_type": "markdown",
      "metadata": {
        "id": "XpZlG8P4dJk_"
      },
      "source": [
        "### **3. Thuật toán:**\n",
        "Sử dụng thuật toán tìm kiếm nhị phân với:\n",
        "\n",
        "* min và max là đoạn cần tìm.\n",
        "\n",
        "* Tìm mid=(min +max)/2 \n",
        "\n",
        "* Nếu F(mid)>n tiếp tục tìm mid trong đoạn [mid+1, max], ngược lại nếu F(mid)<=n \n",
        "thì ta tiếp tục tìm mid trong đoạn [min,mid]\n",
        "\n",
        "Mã giả: \n",
        "\n",
        "\n",
        "\n",
        "```\n",
        "initialize min, max\n",
        "loop:\n",
        "    mid = (min + max) / 2\n",
        "    if S(mid) >= n:\n",
        "        find min->mid\n",
        "    else:\n",
        "        find (mid+1)->max\n",
        "```\n",
        "\n",
        "\n",
        "\n",
        "\n",
        "Độ phức tạp thuật toán là  $\\mathbf{O(log(n))}$\n",
        "\n",
        "\n",
        "\n",
        "\n"
      ]
    },
    {
      "cell_type": "markdown",
      "metadata": {
        "id": "_BaXODp7hKZF"
      },
      "source": [
        "### **4. Cài Đặt:**"
      ]
    },
    {
      "cell_type": "code",
      "metadata": {
        "id": "rsXCvd5yhJD7",
        "outputId": "c9f8f08e-8dce-410c-b2fd-21831382fcb6",
        "colab": {
          "base_uri": "https://localhost:8080/",
          "height": 52
        }
      },
      "source": [
        "a, k, b, m, n = [int(x) for x in input().split()]\n",
        "\n",
        "\n",
        "def F(x):\n",
        "    return a * (x - x//k) + b * (x - x//m)\n",
        "\n",
        "\n",
        "res = -1\n",
        "min = 0\n",
        "max = int(1e18)\n",
        "\n",
        "# tìm kiếm nhị phân\n",
        "while min <= max:\n",
        "    mid = (min + max) //2\n",
        "    if F(mid) >= n:  \n",
        "        res = mid\n",
        "        max = mid - 1\n",
        "    else:            \n",
        "        min = mid + 1\n",
        "\n",
        "print(res)"
      ],
      "execution_count": null,
      "outputs": [
        {
          "output_type": "stream",
          "text": [
            "2 3 3 4 25\n",
            "7\n"
          ],
          "name": "stdout"
        }
      ]
    }
  ]
}