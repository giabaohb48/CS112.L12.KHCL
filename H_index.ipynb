{
  "nbformat": 4,
  "nbformat_minor": 0,
  "metadata": {
    "colab": {
      "name": "H_index.ipynb",
      "provenance": [],
      "collapsed_sections": [],
      "include_colab_link": true
    },
    "kernelspec": {
      "name": "python3",
      "display_name": "Python 3"
    }
  },
  "cells": [
    {
      "cell_type": "markdown",
      "metadata": {
        "id": "view-in-github",
        "colab_type": "text"
      },
      "source": [
        "<a href=\"https://colab.research.google.com/github/nguyenducha0103/CS112.L12.KHCL/blob/master/H_index.ipynb\" target=\"_parent\"><img src=\"https://colab.research.google.com/assets/colab-badge.svg\" alt=\"Open In Colab\"/></a>"
      ]
    },
    {
      "cell_type": "markdown",
      "metadata": {
        "id": "iG4ILlDX6xyK"
      },
      "source": [
        "# **H_Index**"
      ]
    },
    {
      "cell_type": "markdown",
      "metadata": {
        "id": "ZZZNvcHR66Ps"
      },
      "source": [
        "<div class=\"problem_description\" id=\"problem_description\">\n",
        "\t\t\t<p><strong><span style=\"color:#0070c0\">H_Index (1s, 100MB)</span></strong></p>\n",
        "\n",
        "<p style=\"text-align:justify\">Làm thế nào để đánh giá sự thành công của một nhà khoa học?&nbsp; Dựa vào số bài báo được công bố hay dựa vào số lần một bài báo được trích dẫn tới ở công trình của những người khác? Cả hai tham số đó đều quan trọng.</p>\n",
        "\n",
        "<p style=\"text-align:justify\">Một bài báo có điểm số trích dẫn là <strong><em>c</em></strong> nếu nó được trích dẫn tới <strong><em>c</em></strong> lần trong các công trình của những nhà khoa học khác. Một trong số các cách đánh giá sự thành công của một nhà khoa học là tính chỉ số ảnh hưởng <strong><em>H_Index</em></strong> dựa trên sự kết hợp giữa số lượng bài báo và chỉ số trích dẫn của các bài báo đó.</p>\n",
        "\n",
        "<p style=\"text-align:justify\">Chỉ số <strong><em>H_Index</em></strong>của một nhà khoa học bằng <strong><em>k</em></strong> lớn nhất nếu người đó có <strong><em>k</em></strong> bài báo, mỗi bài có điểm số trích dẫn không nhỏ hơn <strong><em>k</em></strong>. Ví dụ, một người có 10 bài báo, mỗi bài báo được trích dẫn không dưới 10 lần thì <strong><em>H_Index</em></strong> của người đó ít nhất là bằng 10.</p>\n",
        "\n",
        "<p style=\"text-align:justify\">Một người có <strong><em>n</em></strong> bài báo, bài báo thứ <strong><em>i</em></strong> có điểm trích dẫn là <strong><em>c<sub>i</sub></em></strong>, <strong><em>i</em></strong> = 1 ÷ <strong><em>n</em></strong>. Hãy xác định <strong><em>H_Index</em></strong> của người đó.</p>\n",
        "\n",
        "<p style=\"text-align:justify\"><strong><em>Dữ liệu:</em></strong> Vào từ thiết bị nhập chuẩn:</p>\n",
        "\n",
        "<ul>\n",
        "\t<li style=\"text-align:justify\">Dòng đầu tiên chứa một số nguyên <strong><em>n</em></strong> (1 ≤ <strong><em>n</em></strong> ≤ 5×10<sup>5</sup>),</li>\n",
        "\t<li style=\"text-align:justify\">Dòng thứ 2 chứa <strong><em>n</em></strong> số nguyên <strong><em>c<sub>1</sub></em></strong>, <strong><em>c<sub>2</sub></em></strong>, . . ., <strong><em>c<sub>n</sub></em></strong> (0 ≤ <strong><em>c<sub>i</sub></em></strong> ≤ 10<sup>6</sup>, <strong><em>i</em></strong> = 1 ÷ <strong><em>n</em></strong>).</li>\n",
        "</ul>\n",
        "\n",
        "<p style=\"text-align:justify\"><strong><em>Kết quả:</em></strong> Đưa ra thiết bị xuất chuẩn một số nguyên – <strong><em>H_Index</em></strong> tìm được.</p>\n",
        "\n",
        "\n",
        "\n",
        "</div>"
      ]
    },
    {
      "cell_type": "markdown",
      "metadata": {
        "id": "nJ_oEcpm8VyC"
      },
      "source": [
        "# **Abstraction**"
      ]
    },
    {
      "cell_type": "markdown",
      "metadata": {
        "id": "W-j0uCRl8Ywd"
      },
      "source": [
        "*   Tìm số lớn nhất thỏa điều kiện."
      ]
    },
    {
      "cell_type": "markdown",
      "metadata": {
        "id": "4DXIaBu_8ij0"
      },
      "source": [
        "# **Pattern Recognition**"
      ]
    },
    {
      "cell_type": "markdown",
      "metadata": {
        "id": "dj80x25j8lIj"
      },
      "source": [
        "* \tBrute force"
      ]
    },
    {
      "cell_type": "markdown",
      "metadata": {
        "id": "nDaGCu2Q8pKe"
      },
      "source": [
        "# **Algorithm designed**\n",
        "\n"
      ]
    },
    {
      "cell_type": "markdown",
      "metadata": {
        "id": "eERTK5Z87sSf"
      },
      "source": [
        "\n",
        "**Input:** n là số nguyên, 1 ≤ n ≤ 5×10^5.\n",
        "\n",
        "a là mảng gồm n phần tử, bắt đầu từ a[0], a[1],...,a[n]\n",
        "\n",
        "**Output:** số lớn nhất\n",
        "\n",
        "\n",
        "***Mã giả***\n",
        "\n",
        "`Sắp xếp lại mảng n phần tử thành mảng tăng dần`\n",
        "\n",
        "Lặp *i*, cited từ 0 đến = c\n",
        "  \n",
        "```\n",
        "  1. result = chiều dài của chuỗi - i\n",
        "  2. if (result <= giá trị của phần tử đang xét)\n",
        "       Return result\n",
        "```\n",
        "\n",
        "\n",
        "\n",
        "\n",
        "\n",
        "\n",
        "Print:\n",
        "\n",
        "    số nguyên H_Index tìm được.\n",
        "\n",
        "**Độ phức tạp của thuật toán: O(n)**"
      ]
    },
    {
      "cell_type": "code",
      "metadata": {
        "id": "mMBODsYJLVb2",
        "colab": {
          "base_uri": "https://localhost:8080/",
          "height": 67
        },
        "outputId": "a65e425c-8659-4bcd-fb4b-4085ab21f26f"
      },
      "source": [
        "def H_index(c,n): \n",
        "    c.sort() \n",
        "    for i, cited in enumerate(c): \n",
        "        result = len(c) - i \n",
        "        if result <= cited: \n",
        "            return result           \n",
        "    return 0\n",
        "n = int(input())\n",
        "citations = list(map(int, input().split()))\n",
        "print(H_index(citations,n))\n"
      ],
      "execution_count": null,
      "outputs": [
        {
          "output_type": "stream",
          "text": [
            "5\n",
            "8 5 3 4 10\n",
            "4\n"
          ],
          "name": "stdout"
        }
      ]
    }
  ]
}