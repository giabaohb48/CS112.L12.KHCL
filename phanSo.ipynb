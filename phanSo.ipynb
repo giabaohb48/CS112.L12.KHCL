{
  "nbformat": 4,
  "nbformat_minor": 0,
  "metadata": {
    "colab": {
      "name": "phanSo.ipynb",
      "provenance": [],
      "collapsed_sections": [],
      "authorship_tag": "ABX9TyMKWp5ZX3qQH5lOpbZ9j9b4",
      "include_colab_link": true
    },
    "kernelspec": {
      "name": "python3",
      "display_name": "Python 3"
    }
  },
  "cells": [
    {
      "cell_type": "markdown",
      "metadata": {
        "id": "view-in-github",
        "colab_type": "text"
      },
      "source": [
        "<a href=\"https://colab.research.google.com/github/nguyenducha0103/CS112.L12.KHCL/blob/master/phanSo.ipynb\" target=\"_parent\"><img src=\"https://colab.research.google.com/assets/colab-badge.svg\" alt=\"Open In Colab\"/></a>"
      ]
    },
    {
      "cell_type": "markdown",
      "metadata": {
        "id": "yQPAqo-ZC1Fx"
      },
      "source": [
        "# **PHÂN SỐ**\n",
        "\n",
        "Cho 2 phân số đúng và tối giản ***a/b***  , ***c/d***  . Mỗi phép biến đổi là tăng **a** và **b** lên 1, sau đó giản ước phân số nhận được.\n",
        "\n",
        "Hãy xác định sau bao nhiêu bước biến đổi từ phân số thứ nhất ban đầu nhận được phân số thứ 2 đã cho.\n",
        "\n",
        "Dữ liệu: Vào từ thiết bị nhập chuẩn gồm 4 dòng, mỗi dòng chứa 1 số nguyên **a, b, c, d**, 0 < **a** < **b** ≤ 105, 0 < **c** < **d** ≤ 105, **a** và **b** nguyên tố cùng nhau, **c** và **d** nguyên tố cùng nhau **a/b**  ≠ **c/d**\n",
        "\n",
        "***Kết quả:*** Đưa ra thiết bị xuất chuẩn số 0 nếu không có cách biến đổi hoặc một số nguyên – số lượng phép biến đổi."
      ]
    },
    {
      "cell_type": "markdown",
      "metadata": {
        "id": "Lr3LTeu4D-4F"
      },
      "source": [
        "# **Abstract**\n",
        "\n",
        "\n",
        "\n",
        "> Cho 2 phân số ***a/b*** và ***c/d***,ở mỗi lần biến đổi thay đổi phân số  ***a/b*** bằng cách cộng 1 cho cả tử và mẫu và rút gọn tối giản  **cho đến khi** bằng phân số ***c/d***.\n",
        "\n"
      ]
    },
    {
      "cell_type": "markdown",
      "metadata": {
        "id": "ZXs7h1-VD_Hj"
      },
      "source": [
        "# **Pattern recognization**\n",
        "\n",
        "> Dùng **Brute force** để biến đổi phân số ***a/b*** đến khi bằng phân số ***c/d***\n",
        "\n",
        "\n",
        "\n",
        "\n",
        "\n",
        "\n"
      ]
    },
    {
      "cell_type": "markdown",
      "metadata": {
        "id": "So6TYQmSHZnF"
      },
      "source": [
        "# **Algorithm Design**\n",
        "\n",
        "***Initialize:***\n",
        "\n",
        "> count = 0 - là số lần biến đổi đến khi 2 phân số bằng nhau\n",
        "\n",
        "***Input:***\n",
        "\n",
        "\n",
        "> ***a, b, c, d*** là số nguyên tố (***a, b, c, d***, 0 < ***a*** < ***b*** ≤ 10^5, 0 < ***c*** < ***d*** ≤ 10^5).\n",
        "\n",
        "***Output:***\n",
        "\n",
        "\n",
        "\n",
        "> count\n",
        "\n",
        "\n",
        "**Độ phức tạp**: **O(nlog(n))** = O(log(n)) x O(n)\n",
        "\n",
        "Thuật toán Euclid để tìm UCLN: O(log(n))\n",
        "\n",
        "Vòng lặp while : O(n)\n",
        "\n",
        "***Pseudocode***\n",
        "1. Hàm rút gọn phân số tối giản\n",
        "\n",
        "\n",
        "```\n",
        "def reduceFrac(a,b):\n",
        "    ucln = gcd(int(a),int(b))\n",
        "    return a/ucln,b/ucln\n",
        "```\n",
        "\n",
        "2. Hàm kiểm tra 2 phân số đã bằng nhau chưa\n",
        "\n",
        "\n",
        "```\n",
        "def check(a,b,c,d):\n",
        "    if (a/b <= c/d):\n",
        "        return 1\n",
        "    return 0\n",
        "```\n",
        "\n",
        "3. Chạy vòng lặp while để tìm ***count***:\n",
        "\n",
        "        1. Biến đổi và rút gọn phân số a/b bằng hàm rút gọn                   \n",
        "\n",
        "          >  a,b = reduceFrac(a+1,b+1)\n",
        "\n",
        "        2. Sau khi biến đổi xong ta tăng biến ***count*** lên 1 đơn vị:\n",
        "            count += 1\n",
        "        3. Kiểm tra phân số a/b có bằng c/d chưa, nếu rồi thì xuất ***count***\n",
        "        4. Lặp lại\n",
        "\n",
        "4. Xuất kết quả: ***count***\n",
        "5. Nếu không tìm được thì xuất 0 ra màn hình\n",
        "\n",
        "\n",
        "\n",
        "\n",
        "\n",
        "\n"
      ]
    },
    {
      "cell_type": "markdown",
      "metadata": {
        "id": "zInulVrnOTAb"
      },
      "source": [
        "# **CODE**"
      ]
    },
    {
      "cell_type": "code",
      "metadata": {
        "id": "pM1IwY7m5FOQ",
        "outputId": "749a01f2-8d1d-4822-918a-40e84736b7e0",
        "colab": {
          "base_uri": "https://localhost:8080/"
        }
      },
      "source": [
        "from math import gcd\n",
        "a = int(input())\n",
        "b = int(input())\n",
        "c = int(input())\n",
        "d = int(input())\n",
        "\n",
        "def reduceFrac(a,b):\n",
        "    ucln = gcd(int(a),int(b))\n",
        "    return a/ucln,b/ucln\n",
        "\n",
        "def check(a,b,c,d):\n",
        "    if (a/b <= c/d):\n",
        "        return 1\n",
        "    return 0\n",
        "\n",
        "flag = 0\n",
        "count = 0\n",
        "while(check(a,b,c,d)):             \n",
        "    a,b = reduceFrac(a+1,b+1)\n",
        "    count += 1        \n",
        "    if (a/b == c/d):\n",
        "        print(count)\n",
        "        flag = 1\n",
        "        break\n",
        "       \n",
        "if flag == 0:\n",
        "    print(0)\n",
        "\n",
        "  \n"
      ],
      "execution_count": 6,
      "outputs": [
        {
          "output_type": "stream",
          "text": [
            "1\n",
            "6\n",
            "2\n",
            "3\n",
            "5\n"
          ],
          "name": "stdout"
        }
      ]
    }
  ]
}